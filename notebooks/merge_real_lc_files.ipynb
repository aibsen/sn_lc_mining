{
 "cells": [
  {
   "cell_type": "code",
   "execution_count": 182,
   "id": "8223c418-5f7f-4265-b18a-25499bb18ab2",
   "metadata": {},
   "outputs": [],
   "source": [
    "import pandas as pd\n",
    "import numpy as np"
   ]
  },
  {
   "cell_type": "markdown",
   "id": "3ea2dd2a-a72b-46b7-851d-a3117e21e5c3",
   "metadata": {},
   "source": [
    "I have three 4 files with lightcurves:\n",
    "\n",
    "1.-lasair_bts_batch_0.csv (ids from bts)\n",
    "\n",
    "2.-lasair_bts_batch_1.csv (more ids from bts)\n",
    "\n",
    "3.-lasair_tns_csv (ids from tns)\n",
    "\n",
    "4.-yse_lcs.csv (from yse dataset)\n",
    "\n",
    "They all have more or less the same fields, except for objId. While the objects from bts and tns have the ZTF ID, the ones from YSE have the IAU ID. So what I have to do is:\n",
    "\n",
    "1.- Concatenate files\n",
    "\n",
    "2.- Add IAU IDs missing\n",
    "\n",
    "3.- Drop duplicates + sanity check\n",
    "\n",
    "4.- Go over the criteria I had previously decided on and filter accordingly\n",
    "\n",
    "5.- Filter the metadata file again if necessary\n",
    "\n",
    "6.- Ensure that IAU ID given is unique"
   ]
  },
  {
   "cell_type": "code",
   "execution_count": 184,
   "id": "bdb3cb3f-dc27-4df6-91c8-0e6ad64f942c",
   "metadata": {},
   "outputs": [],
   "source": [
    "meta = pd.read_csv('../data/real/scrap/real_metadata.csv')\n",
    "bts_0 = pd.read_csv('../data/real/scrap/lasair_bts_batch_0_lcs.csv')\n",
    "bts_1 = pd.read_csv('../data/real/scrap/lasair_bts_batch_1_lcs.csv')\n",
    "tns = pd.read_csv('../data/real/scrap/lasair_tns_lcs.csv')\n",
    "yse = pd.read_csv('../data/real/scrap/yse_lcs.csv')"
   ]
  },
  {
   "cell_type": "code",
   "execution_count": 185,
   "id": "8c006252-32a4-4f2f-8d54-8d9021d330fc",
   "metadata": {},
   "outputs": [
    {
     "name": "stdout",
     "output_type": "stream",
     "text": [
      "(267879, 7)\n",
      "(7643,)\n"
     ]
    },
    {
     "data": {
      "text/html": [
       "<div>\n",
       "<style scoped>\n",
       "    .dataframe tbody tr th:only-of-type {\n",
       "        vertical-align: middle;\n",
       "    }\n",
       "\n",
       "    .dataframe tbody tr th {\n",
       "        vertical-align: top;\n",
       "    }\n",
       "\n",
       "    .dataframe thead th {\n",
       "        text-align: right;\n",
       "    }\n",
       "</style>\n",
       "<table border=\"1\" class=\"dataframe\">\n",
       "  <thead>\n",
       "    <tr style=\"text-align: right;\">\n",
       "      <th></th>\n",
       "      <th>jd</th>\n",
       "      <th>magpsf</th>\n",
       "      <th>sigmapsf</th>\n",
       "      <th>magzpsci</th>\n",
       "      <th>fid</th>\n",
       "      <th>isdiffpos</th>\n",
       "      <th>objId</th>\n",
       "    </tr>\n",
       "  </thead>\n",
       "  <tbody>\n",
       "    <tr>\n",
       "      <th>0</th>\n",
       "      <td>2.459851e+06</td>\n",
       "      <td>17.598600</td>\n",
       "      <td>0.169676</td>\n",
       "      <td>24.837601</td>\n",
       "      <td>2</td>\n",
       "      <td>f</td>\n",
       "      <td>ZTF17aabtvsy</td>\n",
       "    </tr>\n",
       "    <tr>\n",
       "      <th>1</th>\n",
       "      <td>2.459851e+06</td>\n",
       "      <td>18.264799</td>\n",
       "      <td>0.192368</td>\n",
       "      <td>24.728800</td>\n",
       "      <td>2</td>\n",
       "      <td>t</td>\n",
       "      <td>ZTF17aabtvsy</td>\n",
       "    </tr>\n",
       "    <tr>\n",
       "      <th>2</th>\n",
       "      <td>2.459865e+06</td>\n",
       "      <td>18.349199</td>\n",
       "      <td>0.130138</td>\n",
       "      <td>26.073200</td>\n",
       "      <td>1</td>\n",
       "      <td>t</td>\n",
       "      <td>ZTF17aabtvsy</td>\n",
       "    </tr>\n",
       "    <tr>\n",
       "      <th>3</th>\n",
       "      <td>2.459865e+06</td>\n",
       "      <td>18.296801</td>\n",
       "      <td>0.114468</td>\n",
       "      <td>26.107800</td>\n",
       "      <td>2</td>\n",
       "      <td>t</td>\n",
       "      <td>ZTF17aabtvsy</td>\n",
       "    </tr>\n",
       "    <tr>\n",
       "      <th>4</th>\n",
       "      <td>2.459867e+06</td>\n",
       "      <td>18.238001</td>\n",
       "      <td>0.099298</td>\n",
       "      <td>26.124001</td>\n",
       "      <td>1</td>\n",
       "      <td>t</td>\n",
       "      <td>ZTF17aabtvsy</td>\n",
       "    </tr>\n",
       "  </tbody>\n",
       "</table>\n",
       "</div>"
      ],
      "text/plain": [
       "             jd     magpsf  sigmapsf   magzpsci  fid isdiffpos         objId\n",
       "0  2.459851e+06  17.598600  0.169676  24.837601    2         f  ZTF17aabtvsy\n",
       "1  2.459851e+06  18.264799  0.192368  24.728800    2         t  ZTF17aabtvsy\n",
       "2  2.459865e+06  18.349199  0.130138  26.073200    1         t  ZTF17aabtvsy\n",
       "3  2.459865e+06  18.296801  0.114468  26.107800    2         t  ZTF17aabtvsy\n",
       "4  2.459867e+06  18.238001  0.099298  26.124001    1         t  ZTF17aabtvsy"
      ]
     },
     "execution_count": 185,
     "metadata": {},
     "output_type": "execute_result"
    }
   ],
   "source": [
    "iauid_missing = pd.concat([bts_0,bts_1,tns],ignore_index=True)\n",
    "print(iauid_missing.shape)\n",
    "print(iauid_missing.objId.unique().shape)\n",
    "iauid_missing.head()"
   ]
  },
  {
   "cell_type": "markdown",
   "id": "46e436ce-b65c-4879-b254-a83193713b93",
   "metadata": {},
   "source": [
    "First, let's drop whatever is not in the metadata file"
   ]
  },
  {
   "cell_type": "code",
   "execution_count": 186,
   "id": "e8ff1bc9-28db-49e7-b1a8-501e96b2922c",
   "metadata": {},
   "outputs": [],
   "source": [
    "iauid_missing = iauid_missing[iauid_missing['objId'].isin(meta['ZTFID'].unique())]"
   ]
  },
  {
   "cell_type": "code",
   "execution_count": 187,
   "id": "a42c2f2f-7977-4c57-b1fe-a2ab246f762a",
   "metadata": {},
   "outputs": [
    {
     "data": {
      "text/plain": [
       "(7626,)"
      ]
     },
     "execution_count": 187,
     "metadata": {},
     "output_type": "execute_result"
    }
   ],
   "source": [
    "iauid_missing.objId.unique().shape"
   ]
  },
  {
   "cell_type": "code",
   "execution_count": 188,
   "id": "2052c9cd-4d9a-40fa-b575-32499fde24cb",
   "metadata": {},
   "outputs": [
    {
     "data": {
      "text/plain": [
       "(7626, 2)"
      ]
     },
     "execution_count": 188,
     "metadata": {},
     "output_type": "execute_result"
    }
   ],
   "source": [
    "meta_ids = meta[meta['ZTFID'].isin(iauid_missing.objId.unique())][['ZTFID','IAUID']]\n",
    "meta_ids.shape"
   ]
  },
  {
   "cell_type": "code",
   "execution_count": 189,
   "id": "2300b5d2-1561-41d4-8d17-98f0a557d357",
   "metadata": {},
   "outputs": [],
   "source": [
    "iauid_missing.rename(columns={'objId':'ZTFID'},inplace=True)"
   ]
  },
  {
   "cell_type": "code",
   "execution_count": 190,
   "id": "f439db30-40a5-4ca2-980f-1fdb24c7757b",
   "metadata": {},
   "outputs": [
    {
     "data": {
      "text/html": [
       "<div>\n",
       "<style scoped>\n",
       "    .dataframe tbody tr th:only-of-type {\n",
       "        vertical-align: middle;\n",
       "    }\n",
       "\n",
       "    .dataframe tbody tr th {\n",
       "        vertical-align: top;\n",
       "    }\n",
       "\n",
       "    .dataframe thead th {\n",
       "        text-align: right;\n",
       "    }\n",
       "</style>\n",
       "<table border=\"1\" class=\"dataframe\">\n",
       "  <thead>\n",
       "    <tr style=\"text-align: right;\">\n",
       "      <th></th>\n",
       "      <th>jd</th>\n",
       "      <th>magpsf</th>\n",
       "      <th>sigmapsf</th>\n",
       "      <th>magzpsci</th>\n",
       "      <th>fid</th>\n",
       "      <th>isdiffpos</th>\n",
       "      <th>ZTFID</th>\n",
       "    </tr>\n",
       "  </thead>\n",
       "  <tbody>\n",
       "    <tr>\n",
       "      <th>0</th>\n",
       "      <td>2.459851e+06</td>\n",
       "      <td>17.598600</td>\n",
       "      <td>0.169676</td>\n",
       "      <td>24.837601</td>\n",
       "      <td>2</td>\n",
       "      <td>f</td>\n",
       "      <td>ZTF17aabtvsy</td>\n",
       "    </tr>\n",
       "    <tr>\n",
       "      <th>1</th>\n",
       "      <td>2.459851e+06</td>\n",
       "      <td>18.264799</td>\n",
       "      <td>0.192368</td>\n",
       "      <td>24.728800</td>\n",
       "      <td>2</td>\n",
       "      <td>t</td>\n",
       "      <td>ZTF17aabtvsy</td>\n",
       "    </tr>\n",
       "    <tr>\n",
       "      <th>2</th>\n",
       "      <td>2.459865e+06</td>\n",
       "      <td>18.349199</td>\n",
       "      <td>0.130138</td>\n",
       "      <td>26.073200</td>\n",
       "      <td>1</td>\n",
       "      <td>t</td>\n",
       "      <td>ZTF17aabtvsy</td>\n",
       "    </tr>\n",
       "    <tr>\n",
       "      <th>3</th>\n",
       "      <td>2.459865e+06</td>\n",
       "      <td>18.296801</td>\n",
       "      <td>0.114468</td>\n",
       "      <td>26.107800</td>\n",
       "      <td>2</td>\n",
       "      <td>t</td>\n",
       "      <td>ZTF17aabtvsy</td>\n",
       "    </tr>\n",
       "    <tr>\n",
       "      <th>4</th>\n",
       "      <td>2.459867e+06</td>\n",
       "      <td>18.238001</td>\n",
       "      <td>0.099298</td>\n",
       "      <td>26.124001</td>\n",
       "      <td>1</td>\n",
       "      <td>t</td>\n",
       "      <td>ZTF17aabtvsy</td>\n",
       "    </tr>\n",
       "  </tbody>\n",
       "</table>\n",
       "</div>"
      ],
      "text/plain": [
       "             jd     magpsf  sigmapsf   magzpsci  fid isdiffpos         ZTFID\n",
       "0  2.459851e+06  17.598600  0.169676  24.837601    2         f  ZTF17aabtvsy\n",
       "1  2.459851e+06  18.264799  0.192368  24.728800    2         t  ZTF17aabtvsy\n",
       "2  2.459865e+06  18.349199  0.130138  26.073200    1         t  ZTF17aabtvsy\n",
       "3  2.459865e+06  18.296801  0.114468  26.107800    2         t  ZTF17aabtvsy\n",
       "4  2.459867e+06  18.238001  0.099298  26.124001    1         t  ZTF17aabtvsy"
      ]
     },
     "execution_count": 190,
     "metadata": {},
     "output_type": "execute_result"
    }
   ],
   "source": [
    "iauid_missing.head()"
   ]
  },
  {
   "cell_type": "code",
   "execution_count": 191,
   "id": "8264c915-e70c-461c-a5f3-07bdb265be15",
   "metadata": {},
   "outputs": [
    {
     "name": "stdout",
     "output_type": "stream",
     "text": [
      "(267184, 8)\n"
     ]
    },
    {
     "data": {
      "text/html": [
       "<div>\n",
       "<style scoped>\n",
       "    .dataframe tbody tr th:only-of-type {\n",
       "        vertical-align: middle;\n",
       "    }\n",
       "\n",
       "    .dataframe tbody tr th {\n",
       "        vertical-align: top;\n",
       "    }\n",
       "\n",
       "    .dataframe thead th {\n",
       "        text-align: right;\n",
       "    }\n",
       "</style>\n",
       "<table border=\"1\" class=\"dataframe\">\n",
       "  <thead>\n",
       "    <tr style=\"text-align: right;\">\n",
       "      <th></th>\n",
       "      <th>jd</th>\n",
       "      <th>magpsf</th>\n",
       "      <th>sigmapsf</th>\n",
       "      <th>magzpsci</th>\n",
       "      <th>fid</th>\n",
       "      <th>isdiffpos</th>\n",
       "      <th>ZTFID</th>\n",
       "      <th>IAUID</th>\n",
       "    </tr>\n",
       "  </thead>\n",
       "  <tbody>\n",
       "    <tr>\n",
       "      <th>0</th>\n",
       "      <td>2.459851e+06</td>\n",
       "      <td>17.598600</td>\n",
       "      <td>0.169676</td>\n",
       "      <td>24.837601</td>\n",
       "      <td>2</td>\n",
       "      <td>f</td>\n",
       "      <td>ZTF17aabtvsy</td>\n",
       "      <td>SN2022yei</td>\n",
       "    </tr>\n",
       "    <tr>\n",
       "      <th>1</th>\n",
       "      <td>2.459851e+06</td>\n",
       "      <td>18.264799</td>\n",
       "      <td>0.192368</td>\n",
       "      <td>24.728800</td>\n",
       "      <td>2</td>\n",
       "      <td>t</td>\n",
       "      <td>ZTF17aabtvsy</td>\n",
       "      <td>SN2022yei</td>\n",
       "    </tr>\n",
       "    <tr>\n",
       "      <th>2</th>\n",
       "      <td>2.459865e+06</td>\n",
       "      <td>18.349199</td>\n",
       "      <td>0.130138</td>\n",
       "      <td>26.073200</td>\n",
       "      <td>1</td>\n",
       "      <td>t</td>\n",
       "      <td>ZTF17aabtvsy</td>\n",
       "      <td>SN2022yei</td>\n",
       "    </tr>\n",
       "    <tr>\n",
       "      <th>3</th>\n",
       "      <td>2.459865e+06</td>\n",
       "      <td>18.296801</td>\n",
       "      <td>0.114468</td>\n",
       "      <td>26.107800</td>\n",
       "      <td>2</td>\n",
       "      <td>t</td>\n",
       "      <td>ZTF17aabtvsy</td>\n",
       "      <td>SN2022yei</td>\n",
       "    </tr>\n",
       "    <tr>\n",
       "      <th>4</th>\n",
       "      <td>2.459867e+06</td>\n",
       "      <td>18.238001</td>\n",
       "      <td>0.099298</td>\n",
       "      <td>26.124001</td>\n",
       "      <td>1</td>\n",
       "      <td>t</td>\n",
       "      <td>ZTF17aabtvsy</td>\n",
       "      <td>SN2022yei</td>\n",
       "    </tr>\n",
       "  </tbody>\n",
       "</table>\n",
       "</div>"
      ],
      "text/plain": [
       "             jd     magpsf  sigmapsf   magzpsci  fid isdiffpos         ZTFID  \\\n",
       "0  2.459851e+06  17.598600  0.169676  24.837601    2         f  ZTF17aabtvsy   \n",
       "1  2.459851e+06  18.264799  0.192368  24.728800    2         t  ZTF17aabtvsy   \n",
       "2  2.459865e+06  18.349199  0.130138  26.073200    1         t  ZTF17aabtvsy   \n",
       "3  2.459865e+06  18.296801  0.114468  26.107800    2         t  ZTF17aabtvsy   \n",
       "4  2.459867e+06  18.238001  0.099298  26.124001    1         t  ZTF17aabtvsy   \n",
       "\n",
       "       IAUID  \n",
       "0  SN2022yei  \n",
       "1  SN2022yei  \n",
       "2  SN2022yei  \n",
       "3  SN2022yei  \n",
       "4  SN2022yei  "
      ]
     },
     "execution_count": 191,
     "metadata": {},
     "output_type": "execute_result"
    }
   ],
   "source": [
    "with_iauid = pd.merge(iauid_missing,meta_ids, on='ZTFID', how='left')\n",
    "print(with_iauid.shape)\n",
    "with_iauid.head()"
   ]
  },
  {
   "cell_type": "code",
   "execution_count": 192,
   "id": "f00732dc-2134-45cb-bdc2-1cccdf49d78c",
   "metadata": {},
   "outputs": [
    {
     "data": {
      "text/plain": [
       "(7626,)"
      ]
     },
     "execution_count": 192,
     "metadata": {},
     "output_type": "execute_result"
    }
   ],
   "source": [
    "with_iauid.IAUID.unique().shape"
   ]
  },
  {
   "cell_type": "code",
   "execution_count": 193,
   "id": "d5ebbace-79f1-446c-977b-51d3ee3e5f55",
   "metadata": {},
   "outputs": [],
   "source": [
    "with_iauid['mjd']=with_iauid['jd'] - 2400000.5"
   ]
  },
  {
   "cell_type": "code",
   "execution_count": 194,
   "id": "baf7cea9-17c4-439f-b5c7-3f8bcd573fe3",
   "metadata": {},
   "outputs": [
    {
     "data": {
      "text/html": [
       "<div>\n",
       "<style scoped>\n",
       "    .dataframe tbody tr th:only-of-type {\n",
       "        vertical-align: middle;\n",
       "    }\n",
       "\n",
       "    .dataframe tbody tr th {\n",
       "        vertical-align: top;\n",
       "    }\n",
       "\n",
       "    .dataframe thead th {\n",
       "        text-align: right;\n",
       "    }\n",
       "</style>\n",
       "<table border=\"1\" class=\"dataframe\">\n",
       "  <thead>\n",
       "    <tr style=\"text-align: right;\">\n",
       "      <th></th>\n",
       "      <th>mjd</th>\n",
       "      <th>magpsf</th>\n",
       "      <th>sigmapsf</th>\n",
       "      <th>fid</th>\n",
       "      <th>objId</th>\n",
       "      <th>magzpsci</th>\n",
       "      <th>isdiffpos</th>\n",
       "    </tr>\n",
       "  </thead>\n",
       "  <tbody>\n",
       "    <tr>\n",
       "      <th>0</th>\n",
       "      <td>58676.172</td>\n",
       "      <td>17.042</td>\n",
       "      <td>0.018</td>\n",
       "      <td>1</td>\n",
       "      <td>SN2019lbi</td>\n",
       "      <td>27.5</td>\n",
       "      <td>t</td>\n",
       "    </tr>\n",
       "    <tr>\n",
       "      <th>1</th>\n",
       "      <td>58676.192</td>\n",
       "      <td>17.116</td>\n",
       "      <td>0.018</td>\n",
       "      <td>2</td>\n",
       "      <td>SN2019lbi</td>\n",
       "      <td>27.5</td>\n",
       "      <td>t</td>\n",
       "    </tr>\n",
       "    <tr>\n",
       "      <th>2</th>\n",
       "      <td>58679.187</td>\n",
       "      <td>17.100</td>\n",
       "      <td>0.023</td>\n",
       "      <td>1</td>\n",
       "      <td>SN2019lbi</td>\n",
       "      <td>27.5</td>\n",
       "      <td>t</td>\n",
       "    </tr>\n",
       "    <tr>\n",
       "      <th>3</th>\n",
       "      <td>58679.191</td>\n",
       "      <td>17.156</td>\n",
       "      <td>0.023</td>\n",
       "      <td>2</td>\n",
       "      <td>SN2019lbi</td>\n",
       "      <td>27.5</td>\n",
       "      <td>t</td>\n",
       "    </tr>\n",
       "    <tr>\n",
       "      <th>4</th>\n",
       "      <td>58797.545</td>\n",
       "      <td>18.021</td>\n",
       "      <td>0.042</td>\n",
       "      <td>2</td>\n",
       "      <td>SN2019lbi</td>\n",
       "      <td>27.5</td>\n",
       "      <td>t</td>\n",
       "    </tr>\n",
       "  </tbody>\n",
       "</table>\n",
       "</div>"
      ],
      "text/plain": [
       "         mjd  magpsf  sigmapsf  fid      objId  magzpsci isdiffpos\n",
       "0  58676.172  17.042     0.018    1  SN2019lbi      27.5         t\n",
       "1  58676.192  17.116     0.018    2  SN2019lbi      27.5         t\n",
       "2  58679.187  17.100     0.023    1  SN2019lbi      27.5         t\n",
       "3  58679.191  17.156     0.023    2  SN2019lbi      27.5         t\n",
       "4  58797.545  18.021     0.042    2  SN2019lbi      27.5         t"
      ]
     },
     "execution_count": 194,
     "metadata": {},
     "output_type": "execute_result"
    }
   ],
   "source": [
    "yse.head()"
   ]
  },
  {
   "cell_type": "markdown",
   "id": "0c28a75c-3c65-4d14-91ec-6c07f7d9f750",
   "metadata": {},
   "source": [
    "again, we drop everything not in metadata"
   ]
  },
  {
   "cell_type": "code",
   "execution_count": 195,
   "id": "384d15b6-e677-45c8-a721-3fff1e43d077",
   "metadata": {},
   "outputs": [],
   "source": [
    "yse = yse[yse['objId'].isin(meta['IAUID'].unique())]"
   ]
  },
  {
   "cell_type": "code",
   "execution_count": 196,
   "id": "fb9fa570-42c1-46a2-a38a-40b0744e0c67",
   "metadata": {},
   "outputs": [
    {
     "data": {
      "text/plain": [
       "(1698,)"
      ]
     },
     "execution_count": 196,
     "metadata": {},
     "output_type": "execute_result"
    }
   ],
   "source": [
    "yse.objId.unique().shape"
   ]
  },
  {
   "cell_type": "code",
   "execution_count": 197,
   "id": "82f77b54-4daf-4e88-83fb-f91e6ae915f3",
   "metadata": {},
   "outputs": [],
   "source": [
    "yse['jd']=yse['mjd'] + 2400000.5"
   ]
  },
  {
   "cell_type": "code",
   "execution_count": 198,
   "id": "bee953a7-9e81-4fe4-8d21-0cd182a344ef",
   "metadata": {},
   "outputs": [],
   "source": [
    "yse.rename(columns={'objId':'IAUID'},inplace=True)"
   ]
  },
  {
   "cell_type": "code",
   "execution_count": 214,
   "id": "06ed88be-8d20-40c9-a8a8-360f9ebb1edb",
   "metadata": {},
   "outputs": [
    {
     "data": {
      "text/plain": [
       "1698"
      ]
     },
     "execution_count": 214,
     "metadata": {},
     "output_type": "execute_result"
    }
   ],
   "source": [
    "yse_ids=list(yse.IAUID.unique())\n",
    "len(yse_ids)"
   ]
  },
  {
   "cell_type": "code",
   "execution_count": 203,
   "id": "a71b1f1d-8b09-44eb-9e59-89afb1c32558",
   "metadata": {},
   "outputs": [],
   "source": [
    "lcs = pd.concat([with_iauid,yse],ignore_index=True)"
   ]
  },
  {
   "cell_type": "code",
   "execution_count": 204,
   "id": "c93a8e2e-7b79-4e3c-9edc-dccfb3aebb92",
   "metadata": {},
   "outputs": [
    {
     "data": {
      "text/plain": [
       "(9230,)"
      ]
     },
     "execution_count": 204,
     "metadata": {},
     "output_type": "execute_result"
    }
   ],
   "source": [
    "lcs.IAUID.unique().shape"
   ]
  },
  {
   "cell_type": "code",
   "execution_count": 205,
   "id": "2ddada46-c3f9-476a-b2e8-3bf72a954163",
   "metadata": {},
   "outputs": [
    {
     "data": {
      "text/html": [
       "<div>\n",
       "<style scoped>\n",
       "    .dataframe tbody tr th:only-of-type {\n",
       "        vertical-align: middle;\n",
       "    }\n",
       "\n",
       "    .dataframe tbody tr th {\n",
       "        vertical-align: top;\n",
       "    }\n",
       "\n",
       "    .dataframe thead th {\n",
       "        text-align: right;\n",
       "    }\n",
       "</style>\n",
       "<table border=\"1\" class=\"dataframe\">\n",
       "  <thead>\n",
       "    <tr style=\"text-align: right;\">\n",
       "      <th></th>\n",
       "      <th>jd</th>\n",
       "      <th>magpsf</th>\n",
       "      <th>sigmapsf</th>\n",
       "      <th>magzpsci</th>\n",
       "      <th>fid</th>\n",
       "      <th>isdiffpos</th>\n",
       "      <th>ZTFID</th>\n",
       "      <th>IAUID</th>\n",
       "      <th>mjd</th>\n",
       "    </tr>\n",
       "  </thead>\n",
       "  <tbody>\n",
       "    <tr>\n",
       "      <th>27200</th>\n",
       "      <td>2.458637e+06</td>\n",
       "      <td>18.554399</td>\n",
       "      <td>0.086457</td>\n",
       "      <td>25.990400</td>\n",
       "      <td>2</td>\n",
       "      <td>t</td>\n",
       "      <td>ZTF19aawsday</td>\n",
       "      <td>AT2019hbr</td>\n",
       "      <td>58636.423484</td>\n",
       "    </tr>\n",
       "    <tr>\n",
       "      <th>27201</th>\n",
       "      <td>2.458642e+06</td>\n",
       "      <td>18.857800</td>\n",
       "      <td>0.093859</td>\n",
       "      <td>26.067801</td>\n",
       "      <td>1</td>\n",
       "      <td>t</td>\n",
       "      <td>ZTF19aawsday</td>\n",
       "      <td>AT2019hbr</td>\n",
       "      <td>58641.446678</td>\n",
       "    </tr>\n",
       "    <tr>\n",
       "      <th>27202</th>\n",
       "      <td>2.458645e+06</td>\n",
       "      <td>18.862499</td>\n",
       "      <td>0.099435</td>\n",
       "      <td>26.101500</td>\n",
       "      <td>1</td>\n",
       "      <td>t</td>\n",
       "      <td>ZTF19aawsday</td>\n",
       "      <td>AT2019hbr</td>\n",
       "      <td>58644.448565</td>\n",
       "    </tr>\n",
       "    <tr>\n",
       "      <th>27203</th>\n",
       "      <td>2.458648e+06</td>\n",
       "      <td>19.066799</td>\n",
       "      <td>0.114149</td>\n",
       "      <td>26.039801</td>\n",
       "      <td>1</td>\n",
       "      <td>t</td>\n",
       "      <td>ZTF19aawsday</td>\n",
       "      <td>AT2019hbr</td>\n",
       "      <td>58647.472512</td>\n",
       "    </tr>\n",
       "    <tr>\n",
       "      <th>27204</th>\n",
       "      <td>2.458651e+06</td>\n",
       "      <td>18.402700</td>\n",
       "      <td>0.086108</td>\n",
       "      <td>26.158701</td>\n",
       "      <td>2</td>\n",
       "      <td>t</td>\n",
       "      <td>ZTF19aawsday</td>\n",
       "      <td>AT2019hbr</td>\n",
       "      <td>58650.437442</td>\n",
       "    </tr>\n",
       "  </tbody>\n",
       "</table>\n",
       "</div>"
      ],
      "text/plain": [
       "                 jd     magpsf  sigmapsf   magzpsci  fid isdiffpos  \\\n",
       "27200  2.458637e+06  18.554399  0.086457  25.990400    2         t   \n",
       "27201  2.458642e+06  18.857800  0.093859  26.067801    1         t   \n",
       "27202  2.458645e+06  18.862499  0.099435  26.101500    1         t   \n",
       "27203  2.458648e+06  19.066799  0.114149  26.039801    1         t   \n",
       "27204  2.458651e+06  18.402700  0.086108  26.158701    2         t   \n",
       "\n",
       "              ZTFID      IAUID           mjd  \n",
       "27200  ZTF19aawsday  AT2019hbr  58636.423484  \n",
       "27201  ZTF19aawsday  AT2019hbr  58641.446678  \n",
       "27202  ZTF19aawsday  AT2019hbr  58644.448565  \n",
       "27203  ZTF19aawsday  AT2019hbr  58647.472512  \n",
       "27204  ZTF19aawsday  AT2019hbr  58650.437442  "
      ]
     },
     "execution_count": 205,
     "metadata": {},
     "output_type": "execute_result"
    }
   ],
   "source": [
    "lcs = lcs.sort_values(by=['IAUID','mjd'])\n",
    "lcs.head()"
   ]
  },
  {
   "cell_type": "code",
   "execution_count": 206,
   "id": "2583b54d-b322-49f4-b555-d94874e03289",
   "metadata": {},
   "outputs": [
    {
     "data": {
      "text/plain": [
       "(9278,)"
      ]
     },
     "execution_count": 206,
     "metadata": {},
     "output_type": "execute_result"
    }
   ],
   "source": [
    "meta.IAUID.unique().shape"
   ]
  },
  {
   "cell_type": "code",
   "execution_count": 207,
   "id": "3cfaf05d-1284-45fd-9c4a-0ce0f41d9d21",
   "metadata": {},
   "outputs": [
    {
     "data": {
      "text/plain": [
       "(9230, 29)"
      ]
     },
     "execution_count": 207,
     "metadata": {},
     "output_type": "execute_result"
    }
   ],
   "source": [
    "meta = meta[meta.IAUID.isin(lcs.IAUID.unique())]\n",
    "meta.shape"
   ]
  },
  {
   "cell_type": "markdown",
   "id": "c2733e4c-7b25-43dd-b559-f91f127ab6be",
   "metadata": {},
   "source": [
    "Now I need to go over the criteria I had previously decided on and filter accordingly. 3 things:\n",
    "\n",
    "1.-at least 3 det points per band\n",
    "\n",
    "2.-peak mag of at least 19 in at least one band\n",
    "\n",
    "3.-not appear in lowe gal latitudes (|b| >=7 deg)"
   ]
  },
  {
   "cell_type": "code",
   "execution_count": 208,
   "id": "9b2adc40-7dec-401d-86e3-251a56785693",
   "metadata": {},
   "outputs": [
    {
     "data": {
      "text/plain": [
       "(9010,)"
      ]
     },
     "execution_count": 208,
     "metadata": {},
     "output_type": "execute_result"
    }
   ],
   "source": [
    "#1.- 3 points per band\n",
    "fid_counts = lcs.groupby(by=['IAUID','fid']).fid.count()\n",
    "filtered_fid = fid_counts[fid_counts >= 3].reset_index(name='fid_count')\n",
    "valid_fid_ids = filtered_fid.IAUID.unique()\n",
    "valid_fid_ids.shape"
   ]
  },
  {
   "cell_type": "code",
   "execution_count": 209,
   "id": "d4f0f0dc-a85a-43f5-bf3f-a50f6a950dde",
   "metadata": {},
   "outputs": [
    {
     "data": {
      "text/plain": [
       "(9010,)"
      ]
     },
     "execution_count": 209,
     "metadata": {},
     "output_type": "execute_result"
    }
   ],
   "source": [
    "lcs = lcs[lcs.IAUID.isin(valid_fid_ids)]\n",
    "lcs.IAUID.unique().shape"
   ]
  },
  {
   "cell_type": "code",
   "execution_count": 210,
   "id": "1650bf3d-9228-444b-8f11-f280e5028b26",
   "metadata": {},
   "outputs": [
    {
     "data": {
      "text/plain": [
       "(9010,)"
      ]
     },
     "execution_count": 210,
     "metadata": {},
     "output_type": "execute_result"
    }
   ],
   "source": [
    "meta = meta[meta.IAUID.isin(valid_fid_ids)]\n",
    "meta.IAUID.unique().shape"
   ]
  },
  {
   "cell_type": "code",
   "execution_count": 216,
   "id": "ce63ca7b-fd23-4c2d-91c5-86d3340a993f",
   "metadata": {},
   "outputs": [
    {
     "data": {
      "text/plain": [
       "(1615, 29)"
      ]
     },
     "execution_count": 216,
     "metadata": {},
     "output_type": "execute_result"
    }
   ],
   "source": [
    "meta[meta.IAUID.isin(yse_ids)].shape"
   ]
  },
  {
   "cell_type": "code",
   "execution_count": 217,
   "id": "f4059867-16b1-4f3d-ad7e-3ac5645aa521",
   "metadata": {},
   "outputs": [
    {
     "data": {
      "text/plain": [
       "(9010, 2)"
      ]
     },
     "execution_count": 217,
     "metadata": {},
     "output_type": "execute_result"
    }
   ],
   "source": [
    "#2.-peak mag of at least 19 in at least one band\n",
    "peak=lcs.groupby(by='IAUID').magpsf.min().reset_index()\n",
    "peak.shape"
   ]
  },
  {
   "cell_type": "code",
   "execution_count": 218,
   "id": "a45258c0-c56f-45e8-b92b-b60dd22985ad",
   "metadata": {},
   "outputs": [
    {
     "data": {
      "text/plain": [
       "(7214, 2)"
      ]
     },
     "execution_count": 218,
     "metadata": {},
     "output_type": "execute_result"
    }
   ],
   "source": [
    "bright_enough=peak[peak.magpsf<=19]\n",
    "bright_enough.shape"
   ]
  },
  {
   "cell_type": "code",
   "execution_count": 219,
   "id": "8005d563-ba52-4bca-a188-d754235ff5fc",
   "metadata": {},
   "outputs": [
    {
     "data": {
      "text/plain": [
       "(7214,)"
      ]
     },
     "execution_count": 219,
     "metadata": {},
     "output_type": "execute_result"
    }
   ],
   "source": [
    "lcs = lcs[lcs.IAUID.isin(bright_enough.IAUID)]\n",
    "lcs.IAUID.unique().shape"
   ]
  },
  {
   "cell_type": "code",
   "execution_count": 220,
   "id": "bafbfc21-8596-4ab8-937d-c10209ef8493",
   "metadata": {},
   "outputs": [
    {
     "data": {
      "text/plain": [
       "(7214,)"
      ]
     },
     "execution_count": 220,
     "metadata": {},
     "output_type": "execute_result"
    }
   ],
   "source": [
    "meta = meta[meta.IAUID.isin(bright_enough.IAUID)]\n",
    "meta.IAUID.unique().shape"
   ]
  },
  {
   "cell_type": "code",
   "execution_count": 221,
   "id": "53b497af-536e-4371-a2ab-dd9900db2d76",
   "metadata": {},
   "outputs": [
    {
     "data": {
      "text/plain": [
       "(219, 29)"
      ]
     },
     "execution_count": 221,
     "metadata": {},
     "output_type": "execute_result"
    }
   ],
   "source": [
    "meta[meta.IAUID.isin(yse_ids)].shape"
   ]
  },
  {
   "cell_type": "code",
   "execution_count": 222,
   "id": "976b2bed-e04c-4ad5-a7ef-2194af6c4659",
   "metadata": {},
   "outputs": [],
   "source": [
    "#3.-not appear in lowe gal latitudes (|b| >=7 deg)\n",
    "from astropy.coordinates import SkyCoord\n",
    "def galactic_lat(ra, dec):\n",
    "    c=SkyCoord(ra, dec, unit='deg')\n",
    "    b=c.galactic.b.degree\n",
    "    return b"
   ]
  },
  {
   "cell_type": "code",
   "execution_count": 223,
   "id": "7625856a-e03e-4f66-b529-1fc4352c0133",
   "metadata": {},
   "outputs": [
    {
     "data": {
      "text/plain": [
       "Index(['hostname', 'hostredshift', 'reporting_groups', 'data_sources',\n",
       "       'classifying_groups', 'associated_groups', 'ZTFID', 'peakt', 'peakfilt',\n",
       "       'peakmag', 'peakabs', 'duration', 'rise', 'fade', 'hostabs', 'hostcol',\n",
       "       'b', 'A_V', 'IAUID', 'Confidence', 'p_SNII', 'p_SNIa', 'p_SNIbc',\n",
       "       'redshift', 'RA_deg', 'Dec_deg', 'subtype', 'type', 'type_code'],\n",
       "      dtype='object')"
      ]
     },
     "execution_count": 223,
     "metadata": {},
     "output_type": "execute_result"
    }
   ],
   "source": [
    "meta.keys()"
   ]
  },
  {
   "cell_type": "code",
   "execution_count": 238,
   "id": "895f84bb-68da-4158-802d-ef33b3e07fc6",
   "metadata": {},
   "outputs": [],
   "source": [
    "meta['gal_lat']=meta.apply(lambda row : galactic_lat(row['RA_deg'],row['Dec_deg']),axis=1)"
   ]
  },
  {
   "cell_type": "code",
   "execution_count": 239,
   "id": "29de2828-33ae-444c-aa63-db082026ae20",
   "metadata": {},
   "outputs": [
    {
     "ename": "KeyError",
     "evalue": "\"['b'] not in index\"",
     "output_type": "error",
     "traceback": [
      "\u001b[0;31m---------------------------------------------------------------------------\u001b[0m",
      "\u001b[0;31mKeyError\u001b[0m                                  Traceback (most recent call last)",
      "Cell \u001b[0;32mIn[239], line 1\u001b[0m\n\u001b[0;32m----> 1\u001b[0m \u001b[43mmeta\u001b[49m\u001b[43m[\u001b[49m\u001b[43m[\u001b[49m\u001b[38;5;124;43m'\u001b[39;49m\u001b[38;5;124;43mRA_deg\u001b[39;49m\u001b[38;5;124;43m'\u001b[39;49m\u001b[43m,\u001b[49m\u001b[38;5;124;43m'\u001b[39;49m\u001b[38;5;124;43mDec_deg\u001b[39;49m\u001b[38;5;124;43m'\u001b[39;49m\u001b[43m,\u001b[49m\u001b[38;5;124;43m'\u001b[39;49m\u001b[38;5;124;43mb\u001b[39;49m\u001b[38;5;124;43m'\u001b[39;49m\u001b[43m,\u001b[49m\u001b[38;5;124;43m'\u001b[39;49m\u001b[38;5;124;43mgal_lat\u001b[39;49m\u001b[38;5;124;43m'\u001b[39;49m\u001b[43m]\u001b[49m\u001b[43m]\u001b[49m\n",
      "File \u001b[0;32m~/anaconda3/envs/ml/lib/python3.9/site-packages/pandas/core/frame.py:3464\u001b[0m, in \u001b[0;36mDataFrame.__getitem__\u001b[0;34m(self, key)\u001b[0m\n\u001b[1;32m   3462\u001b[0m     \u001b[38;5;28;01mif\u001b[39;00m is_iterator(key):\n\u001b[1;32m   3463\u001b[0m         key \u001b[38;5;241m=\u001b[39m \u001b[38;5;28mlist\u001b[39m(key)\n\u001b[0;32m-> 3464\u001b[0m     indexer \u001b[38;5;241m=\u001b[39m \u001b[38;5;28;43mself\u001b[39;49m\u001b[38;5;241;43m.\u001b[39;49m\u001b[43mloc\u001b[49m\u001b[38;5;241;43m.\u001b[39;49m\u001b[43m_get_listlike_indexer\u001b[49m\u001b[43m(\u001b[49m\u001b[43mkey\u001b[49m\u001b[43m,\u001b[49m\u001b[43m \u001b[49m\u001b[43maxis\u001b[49m\u001b[38;5;241;43m=\u001b[39;49m\u001b[38;5;241;43m1\u001b[39;49m\u001b[43m)\u001b[49m[\u001b[38;5;241m1\u001b[39m]\n\u001b[1;32m   3466\u001b[0m \u001b[38;5;66;03m# take() does not accept boolean indexers\u001b[39;00m\n\u001b[1;32m   3467\u001b[0m \u001b[38;5;28;01mif\u001b[39;00m \u001b[38;5;28mgetattr\u001b[39m(indexer, \u001b[38;5;124m\"\u001b[39m\u001b[38;5;124mdtype\u001b[39m\u001b[38;5;124m\"\u001b[39m, \u001b[38;5;28;01mNone\u001b[39;00m) \u001b[38;5;241m==\u001b[39m \u001b[38;5;28mbool\u001b[39m:\n",
      "File \u001b[0;32m~/anaconda3/envs/ml/lib/python3.9/site-packages/pandas/core/indexing.py:1314\u001b[0m, in \u001b[0;36m_LocIndexer._get_listlike_indexer\u001b[0;34m(self, key, axis)\u001b[0m\n\u001b[1;32m   1311\u001b[0m \u001b[38;5;28;01melse\u001b[39;00m:\n\u001b[1;32m   1312\u001b[0m     keyarr, indexer, new_indexer \u001b[38;5;241m=\u001b[39m ax\u001b[38;5;241m.\u001b[39m_reindex_non_unique(keyarr)\n\u001b[0;32m-> 1314\u001b[0m \u001b[38;5;28;43mself\u001b[39;49m\u001b[38;5;241;43m.\u001b[39;49m\u001b[43m_validate_read_indexer\u001b[49m\u001b[43m(\u001b[49m\u001b[43mkeyarr\u001b[49m\u001b[43m,\u001b[49m\u001b[43m \u001b[49m\u001b[43mindexer\u001b[49m\u001b[43m,\u001b[49m\u001b[43m \u001b[49m\u001b[43maxis\u001b[49m\u001b[43m)\u001b[49m\n\u001b[1;32m   1316\u001b[0m \u001b[38;5;28;01mif\u001b[39;00m needs_i8_conversion(ax\u001b[38;5;241m.\u001b[39mdtype) \u001b[38;5;129;01mor\u001b[39;00m \u001b[38;5;28misinstance\u001b[39m(\n\u001b[1;32m   1317\u001b[0m     ax, (IntervalIndex, CategoricalIndex)\n\u001b[1;32m   1318\u001b[0m ):\n\u001b[1;32m   1319\u001b[0m     \u001b[38;5;66;03m# For CategoricalIndex take instead of reindex to preserve dtype.\u001b[39;00m\n\u001b[1;32m   1320\u001b[0m     \u001b[38;5;66;03m#  For IntervalIndex this is to map integers to the Intervals they match to.\u001b[39;00m\n\u001b[1;32m   1321\u001b[0m     keyarr \u001b[38;5;241m=\u001b[39m ax\u001b[38;5;241m.\u001b[39mtake(indexer)\n",
      "File \u001b[0;32m~/anaconda3/envs/ml/lib/python3.9/site-packages/pandas/core/indexing.py:1377\u001b[0m, in \u001b[0;36m_LocIndexer._validate_read_indexer\u001b[0;34m(self, key, indexer, axis)\u001b[0m\n\u001b[1;32m   1374\u001b[0m     \u001b[38;5;28;01mraise\u001b[39;00m \u001b[38;5;167;01mKeyError\u001b[39;00m(\u001b[38;5;124mf\u001b[39m\u001b[38;5;124m\"\u001b[39m\u001b[38;5;124mNone of [\u001b[39m\u001b[38;5;132;01m{\u001b[39;00mkey\u001b[38;5;132;01m}\u001b[39;00m\u001b[38;5;124m] are in the [\u001b[39m\u001b[38;5;132;01m{\u001b[39;00maxis_name\u001b[38;5;132;01m}\u001b[39;00m\u001b[38;5;124m]\u001b[39m\u001b[38;5;124m\"\u001b[39m)\n\u001b[1;32m   1376\u001b[0m not_found \u001b[38;5;241m=\u001b[39m \u001b[38;5;28mlist\u001b[39m(ensure_index(key)[missing_mask\u001b[38;5;241m.\u001b[39mnonzero()[\u001b[38;5;241m0\u001b[39m]]\u001b[38;5;241m.\u001b[39munique())\n\u001b[0;32m-> 1377\u001b[0m \u001b[38;5;28;01mraise\u001b[39;00m \u001b[38;5;167;01mKeyError\u001b[39;00m(\u001b[38;5;124mf\u001b[39m\u001b[38;5;124m\"\u001b[39m\u001b[38;5;132;01m{\u001b[39;00mnot_found\u001b[38;5;132;01m}\u001b[39;00m\u001b[38;5;124m not in index\u001b[39m\u001b[38;5;124m\"\u001b[39m)\n",
      "\u001b[0;31mKeyError\u001b[0m: \"['b'] not in index\""
     ]
    }
   ],
   "source": [
    "meta[['RA_deg','Dec_deg','b','gal_lat']]"
   ]
  },
  {
   "cell_type": "code",
   "execution_count": 234,
   "id": "301851af-af82-4628-addd-60c4f506d176",
   "metadata": {},
   "outputs": [
    {
     "ename": "KeyError",
     "evalue": "\"['b'] not found in axis\"",
     "output_type": "error",
     "traceback": [
      "\u001b[0;31m---------------------------------------------------------------------------\u001b[0m",
      "\u001b[0;31mKeyError\u001b[0m                                  Traceback (most recent call last)",
      "Cell \u001b[0;32mIn[234], line 1\u001b[0m\n\u001b[0;32m----> 1\u001b[0m meta\u001b[38;5;241m=\u001b[39m\u001b[43mmeta\u001b[49m\u001b[38;5;241;43m.\u001b[39;49m\u001b[43mdrop\u001b[49m\u001b[43m(\u001b[49m\u001b[43mlabels\u001b[49m\u001b[38;5;241;43m=\u001b[39;49m\u001b[38;5;124;43m'\u001b[39;49m\u001b[38;5;124;43mb\u001b[39;49m\u001b[38;5;124;43m'\u001b[39;49m\u001b[43m,\u001b[49m\u001b[43maxis\u001b[49m\u001b[38;5;241;43m=\u001b[39;49m\u001b[38;5;241;43m1\u001b[39;49m\u001b[43m)\u001b[49m\n\u001b[1;32m      2\u001b[0m meta\u001b[38;5;241m.\u001b[39mkeys()\n",
      "File \u001b[0;32m~/anaconda3/envs/ml/lib/python3.9/site-packages/pandas/util/_decorators.py:311\u001b[0m, in \u001b[0;36mdeprecate_nonkeyword_arguments.<locals>.decorate.<locals>.wrapper\u001b[0;34m(*args, **kwargs)\u001b[0m\n\u001b[1;32m    305\u001b[0m \u001b[38;5;28;01mif\u001b[39;00m \u001b[38;5;28mlen\u001b[39m(args) \u001b[38;5;241m>\u001b[39m num_allow_args:\n\u001b[1;32m    306\u001b[0m     warnings\u001b[38;5;241m.\u001b[39mwarn(\n\u001b[1;32m    307\u001b[0m         msg\u001b[38;5;241m.\u001b[39mformat(arguments\u001b[38;5;241m=\u001b[39marguments),\n\u001b[1;32m    308\u001b[0m         \u001b[38;5;167;01mFutureWarning\u001b[39;00m,\n\u001b[1;32m    309\u001b[0m         stacklevel\u001b[38;5;241m=\u001b[39mstacklevel,\n\u001b[1;32m    310\u001b[0m     )\n\u001b[0;32m--> 311\u001b[0m \u001b[38;5;28;01mreturn\u001b[39;00m \u001b[43mfunc\u001b[49m\u001b[43m(\u001b[49m\u001b[38;5;241;43m*\u001b[39;49m\u001b[43margs\u001b[49m\u001b[43m,\u001b[49m\u001b[43m \u001b[49m\u001b[38;5;241;43m*\u001b[39;49m\u001b[38;5;241;43m*\u001b[39;49m\u001b[43mkwargs\u001b[49m\u001b[43m)\u001b[49m\n",
      "File \u001b[0;32m~/anaconda3/envs/ml/lib/python3.9/site-packages/pandas/core/frame.py:4906\u001b[0m, in \u001b[0;36mDataFrame.drop\u001b[0;34m(self, labels, axis, index, columns, level, inplace, errors)\u001b[0m\n\u001b[1;32m   4774\u001b[0m \u001b[38;5;129m@deprecate_nonkeyword_arguments\u001b[39m(version\u001b[38;5;241m=\u001b[39m\u001b[38;5;28;01mNone\u001b[39;00m, allowed_args\u001b[38;5;241m=\u001b[39m[\u001b[38;5;124m\"\u001b[39m\u001b[38;5;124mself\u001b[39m\u001b[38;5;124m\"\u001b[39m, \u001b[38;5;124m\"\u001b[39m\u001b[38;5;124mlabels\u001b[39m\u001b[38;5;124m\"\u001b[39m])\n\u001b[1;32m   4775\u001b[0m \u001b[38;5;28;01mdef\u001b[39;00m \u001b[38;5;21mdrop\u001b[39m(\n\u001b[1;32m   4776\u001b[0m     \u001b[38;5;28mself\u001b[39m,\n\u001b[0;32m   (...)\u001b[0m\n\u001b[1;32m   4783\u001b[0m     errors: \u001b[38;5;28mstr\u001b[39m \u001b[38;5;241m=\u001b[39m \u001b[38;5;124m\"\u001b[39m\u001b[38;5;124mraise\u001b[39m\u001b[38;5;124m\"\u001b[39m,\n\u001b[1;32m   4784\u001b[0m ):\n\u001b[1;32m   4785\u001b[0m \u001b[38;5;250m    \u001b[39m\u001b[38;5;124;03m\"\"\"\u001b[39;00m\n\u001b[1;32m   4786\u001b[0m \u001b[38;5;124;03m    Drop specified labels from rows or columns.\u001b[39;00m\n\u001b[1;32m   4787\u001b[0m \n\u001b[0;32m   (...)\u001b[0m\n\u001b[1;32m   4904\u001b[0m \u001b[38;5;124;03m            weight  1.0     0.8\u001b[39;00m\n\u001b[1;32m   4905\u001b[0m \u001b[38;5;124;03m    \"\"\"\u001b[39;00m\n\u001b[0;32m-> 4906\u001b[0m     \u001b[38;5;28;01mreturn\u001b[39;00m \u001b[38;5;28;43msuper\u001b[39;49m\u001b[43m(\u001b[49m\u001b[43m)\u001b[49m\u001b[38;5;241;43m.\u001b[39;49m\u001b[43mdrop\u001b[49m\u001b[43m(\u001b[49m\n\u001b[1;32m   4907\u001b[0m \u001b[43m        \u001b[49m\u001b[43mlabels\u001b[49m\u001b[38;5;241;43m=\u001b[39;49m\u001b[43mlabels\u001b[49m\u001b[43m,\u001b[49m\n\u001b[1;32m   4908\u001b[0m \u001b[43m        \u001b[49m\u001b[43maxis\u001b[49m\u001b[38;5;241;43m=\u001b[39;49m\u001b[43maxis\u001b[49m\u001b[43m,\u001b[49m\n\u001b[1;32m   4909\u001b[0m \u001b[43m        \u001b[49m\u001b[43mindex\u001b[49m\u001b[38;5;241;43m=\u001b[39;49m\u001b[43mindex\u001b[49m\u001b[43m,\u001b[49m\n\u001b[1;32m   4910\u001b[0m \u001b[43m        \u001b[49m\u001b[43mcolumns\u001b[49m\u001b[38;5;241;43m=\u001b[39;49m\u001b[43mcolumns\u001b[49m\u001b[43m,\u001b[49m\n\u001b[1;32m   4911\u001b[0m \u001b[43m        \u001b[49m\u001b[43mlevel\u001b[49m\u001b[38;5;241;43m=\u001b[39;49m\u001b[43mlevel\u001b[49m\u001b[43m,\u001b[49m\n\u001b[1;32m   4912\u001b[0m \u001b[43m        \u001b[49m\u001b[43minplace\u001b[49m\u001b[38;5;241;43m=\u001b[39;49m\u001b[43minplace\u001b[49m\u001b[43m,\u001b[49m\n\u001b[1;32m   4913\u001b[0m \u001b[43m        \u001b[49m\u001b[43merrors\u001b[49m\u001b[38;5;241;43m=\u001b[39;49m\u001b[43merrors\u001b[49m\u001b[43m,\u001b[49m\n\u001b[1;32m   4914\u001b[0m \u001b[43m    \u001b[49m\u001b[43m)\u001b[49m\n",
      "File \u001b[0;32m~/anaconda3/envs/ml/lib/python3.9/site-packages/pandas/core/generic.py:4150\u001b[0m, in \u001b[0;36mNDFrame.drop\u001b[0;34m(self, labels, axis, index, columns, level, inplace, errors)\u001b[0m\n\u001b[1;32m   4148\u001b[0m \u001b[38;5;28;01mfor\u001b[39;00m axis, labels \u001b[38;5;129;01min\u001b[39;00m axes\u001b[38;5;241m.\u001b[39mitems():\n\u001b[1;32m   4149\u001b[0m     \u001b[38;5;28;01mif\u001b[39;00m labels \u001b[38;5;129;01mis\u001b[39;00m \u001b[38;5;129;01mnot\u001b[39;00m \u001b[38;5;28;01mNone\u001b[39;00m:\n\u001b[0;32m-> 4150\u001b[0m         obj \u001b[38;5;241m=\u001b[39m \u001b[43mobj\u001b[49m\u001b[38;5;241;43m.\u001b[39;49m\u001b[43m_drop_axis\u001b[49m\u001b[43m(\u001b[49m\u001b[43mlabels\u001b[49m\u001b[43m,\u001b[49m\u001b[43m \u001b[49m\u001b[43maxis\u001b[49m\u001b[43m,\u001b[49m\u001b[43m \u001b[49m\u001b[43mlevel\u001b[49m\u001b[38;5;241;43m=\u001b[39;49m\u001b[43mlevel\u001b[49m\u001b[43m,\u001b[49m\u001b[43m \u001b[49m\u001b[43merrors\u001b[49m\u001b[38;5;241;43m=\u001b[39;49m\u001b[43merrors\u001b[49m\u001b[43m)\u001b[49m\n\u001b[1;32m   4152\u001b[0m \u001b[38;5;28;01mif\u001b[39;00m inplace:\n\u001b[1;32m   4153\u001b[0m     \u001b[38;5;28mself\u001b[39m\u001b[38;5;241m.\u001b[39m_update_inplace(obj)\n",
      "File \u001b[0;32m~/anaconda3/envs/ml/lib/python3.9/site-packages/pandas/core/generic.py:4185\u001b[0m, in \u001b[0;36mNDFrame._drop_axis\u001b[0;34m(self, labels, axis, level, errors)\u001b[0m\n\u001b[1;32m   4183\u001b[0m         new_axis \u001b[38;5;241m=\u001b[39m axis\u001b[38;5;241m.\u001b[39mdrop(labels, level\u001b[38;5;241m=\u001b[39mlevel, errors\u001b[38;5;241m=\u001b[39merrors)\n\u001b[1;32m   4184\u001b[0m     \u001b[38;5;28;01melse\u001b[39;00m:\n\u001b[0;32m-> 4185\u001b[0m         new_axis \u001b[38;5;241m=\u001b[39m \u001b[43maxis\u001b[49m\u001b[38;5;241;43m.\u001b[39;49m\u001b[43mdrop\u001b[49m\u001b[43m(\u001b[49m\u001b[43mlabels\u001b[49m\u001b[43m,\u001b[49m\u001b[43m \u001b[49m\u001b[43merrors\u001b[49m\u001b[38;5;241;43m=\u001b[39;49m\u001b[43merrors\u001b[49m\u001b[43m)\u001b[49m\n\u001b[1;32m   4186\u001b[0m     result \u001b[38;5;241m=\u001b[39m \u001b[38;5;28mself\u001b[39m\u001b[38;5;241m.\u001b[39mreindex(\u001b[38;5;241m*\u001b[39m\u001b[38;5;241m*\u001b[39m{axis_name: new_axis})\n\u001b[1;32m   4188\u001b[0m \u001b[38;5;66;03m# Case for non-unique axis\u001b[39;00m\n\u001b[1;32m   4189\u001b[0m \u001b[38;5;28;01melse\u001b[39;00m:\n",
      "File \u001b[0;32m~/anaconda3/envs/ml/lib/python3.9/site-packages/pandas/core/indexes/base.py:6017\u001b[0m, in \u001b[0;36mIndex.drop\u001b[0;34m(self, labels, errors)\u001b[0m\n\u001b[1;32m   6015\u001b[0m \u001b[38;5;28;01mif\u001b[39;00m mask\u001b[38;5;241m.\u001b[39many():\n\u001b[1;32m   6016\u001b[0m     \u001b[38;5;28;01mif\u001b[39;00m errors \u001b[38;5;241m!=\u001b[39m \u001b[38;5;124m\"\u001b[39m\u001b[38;5;124mignore\u001b[39m\u001b[38;5;124m\"\u001b[39m:\n\u001b[0;32m-> 6017\u001b[0m         \u001b[38;5;28;01mraise\u001b[39;00m \u001b[38;5;167;01mKeyError\u001b[39;00m(\u001b[38;5;124mf\u001b[39m\u001b[38;5;124m\"\u001b[39m\u001b[38;5;132;01m{\u001b[39;00mlabels[mask]\u001b[38;5;132;01m}\u001b[39;00m\u001b[38;5;124m not found in axis\u001b[39m\u001b[38;5;124m\"\u001b[39m)\n\u001b[1;32m   6018\u001b[0m     indexer \u001b[38;5;241m=\u001b[39m indexer[\u001b[38;5;241m~\u001b[39mmask]\n\u001b[1;32m   6019\u001b[0m \u001b[38;5;28;01mreturn\u001b[39;00m \u001b[38;5;28mself\u001b[39m\u001b[38;5;241m.\u001b[39mdelete(indexer)\n",
      "\u001b[0;31mKeyError\u001b[0m: \"['b'] not found in axis\""
     ]
    }
   ],
   "source": [
    "meta=meta.drop(labels='b',axis=1)\n",
    "meta.keys()"
   ]
  },
  {
   "cell_type": "code",
   "execution_count": 240,
   "id": "261e7924-e566-4b6c-9b62-203ad63c98bb",
   "metadata": {},
   "outputs": [
    {
     "data": {
      "text/plain": [
       "Index(['hostname', 'hostredshift', 'reporting_groups', 'data_sources',\n",
       "       'classifying_groups', 'associated_groups', 'ZTFID', 'peakt', 'peakfilt',\n",
       "       'peakmag', 'peakabs', 'duration', 'rise', 'fade', 'hostabs', 'hostcol',\n",
       "       'A_V', 'IAUID', 'Confidence', 'p_SNII', 'p_SNIa', 'p_SNIbc', 'redshift',\n",
       "       'RA_deg', 'Dec_deg', 'subtype', 'type', 'type_code', 'b'],\n",
       "      dtype='object')"
      ]
     },
     "execution_count": 240,
     "metadata": {},
     "output_type": "execute_result"
    }
   ],
   "source": [
    "meta.rename(columns={'gal_lat':'b'},inplace=True)\n",
    "meta.keys()"
   ]
  },
  {
   "cell_type": "code",
   "execution_count": 241,
   "id": "5c39b46d-b72b-4a9b-b435-3360a2380bcd",
   "metadata": {},
   "outputs": [
    {
     "data": {
      "text/plain": [
       "(7202, 29)"
      ]
     },
     "execution_count": 241,
     "metadata": {},
     "output_type": "execute_result"
    }
   ],
   "source": [
    "meta=meta[meta.b.abs()>=7]\n",
    "meta.shape"
   ]
  },
  {
   "cell_type": "code",
   "execution_count": 242,
   "id": "9d9aa44d-775c-424c-9f80-0ee7032d5e53",
   "metadata": {},
   "outputs": [
    {
     "data": {
      "text/plain": [
       "(219, 29)"
      ]
     },
     "execution_count": 242,
     "metadata": {},
     "output_type": "execute_result"
    }
   ],
   "source": [
    "meta[meta.IAUID.isin(yse_ids)].shape"
   ]
  },
  {
   "cell_type": "code",
   "execution_count": 243,
   "id": "9d012b7a-070f-4378-96db-75a51c2bceff",
   "metadata": {},
   "outputs": [
    {
     "data": {
      "text/plain": [
       "(7202,)"
      ]
     },
     "execution_count": 243,
     "metadata": {},
     "output_type": "execute_result"
    }
   ],
   "source": [
    "lcs = lcs[lcs.IAUID.isin(meta.IAUID.unique())]\n",
    "lcs.IAUID.unique().shape"
   ]
  },
  {
   "cell_type": "code",
   "execution_count": 244,
   "id": "3d938fc1-d3b4-4cc2-a58a-de225f980f18",
   "metadata": {},
   "outputs": [
    {
     "data": {
      "text/html": [
       "<div>\n",
       "<style scoped>\n",
       "    .dataframe tbody tr th:only-of-type {\n",
       "        vertical-align: middle;\n",
       "    }\n",
       "\n",
       "    .dataframe tbody tr th {\n",
       "        vertical-align: top;\n",
       "    }\n",
       "\n",
       "    .dataframe thead th {\n",
       "        text-align: right;\n",
       "    }\n",
       "</style>\n",
       "<table border=\"1\" class=\"dataframe\">\n",
       "  <thead>\n",
       "    <tr style=\"text-align: right;\">\n",
       "      <th></th>\n",
       "      <th>jd</th>\n",
       "      <th>magpsf</th>\n",
       "      <th>sigmapsf</th>\n",
       "      <th>magzpsci</th>\n",
       "      <th>fid</th>\n",
       "      <th>isdiffpos</th>\n",
       "      <th>ZTFID</th>\n",
       "      <th>IAUID</th>\n",
       "      <th>mjd</th>\n",
       "    </tr>\n",
       "  </thead>\n",
       "  <tbody>\n",
       "    <tr>\n",
       "      <th>27200</th>\n",
       "      <td>2.458637e+06</td>\n",
       "      <td>18.554399</td>\n",
       "      <td>0.086457</td>\n",
       "      <td>25.990400</td>\n",
       "      <td>2</td>\n",
       "      <td>t</td>\n",
       "      <td>ZTF19aawsday</td>\n",
       "      <td>AT2019hbr</td>\n",
       "      <td>58636.423484</td>\n",
       "    </tr>\n",
       "    <tr>\n",
       "      <th>27201</th>\n",
       "      <td>2.458642e+06</td>\n",
       "      <td>18.857800</td>\n",
       "      <td>0.093859</td>\n",
       "      <td>26.067801</td>\n",
       "      <td>1</td>\n",
       "      <td>t</td>\n",
       "      <td>ZTF19aawsday</td>\n",
       "      <td>AT2019hbr</td>\n",
       "      <td>58641.446678</td>\n",
       "    </tr>\n",
       "    <tr>\n",
       "      <th>27202</th>\n",
       "      <td>2.458645e+06</td>\n",
       "      <td>18.862499</td>\n",
       "      <td>0.099435</td>\n",
       "      <td>26.101500</td>\n",
       "      <td>1</td>\n",
       "      <td>t</td>\n",
       "      <td>ZTF19aawsday</td>\n",
       "      <td>AT2019hbr</td>\n",
       "      <td>58644.448565</td>\n",
       "    </tr>\n",
       "    <tr>\n",
       "      <th>27203</th>\n",
       "      <td>2.458648e+06</td>\n",
       "      <td>19.066799</td>\n",
       "      <td>0.114149</td>\n",
       "      <td>26.039801</td>\n",
       "      <td>1</td>\n",
       "      <td>t</td>\n",
       "      <td>ZTF19aawsday</td>\n",
       "      <td>AT2019hbr</td>\n",
       "      <td>58647.472512</td>\n",
       "    </tr>\n",
       "    <tr>\n",
       "      <th>27204</th>\n",
       "      <td>2.458651e+06</td>\n",
       "      <td>18.402700</td>\n",
       "      <td>0.086108</td>\n",
       "      <td>26.158701</td>\n",
       "      <td>2</td>\n",
       "      <td>t</td>\n",
       "      <td>ZTF19aawsday</td>\n",
       "      <td>AT2019hbr</td>\n",
       "      <td>58650.437442</td>\n",
       "    </tr>\n",
       "  </tbody>\n",
       "</table>\n",
       "</div>"
      ],
      "text/plain": [
       "                 jd     magpsf  sigmapsf   magzpsci  fid isdiffpos  \\\n",
       "27200  2.458637e+06  18.554399  0.086457  25.990400    2         t   \n",
       "27201  2.458642e+06  18.857800  0.093859  26.067801    1         t   \n",
       "27202  2.458645e+06  18.862499  0.099435  26.101500    1         t   \n",
       "27203  2.458648e+06  19.066799  0.114149  26.039801    1         t   \n",
       "27204  2.458651e+06  18.402700  0.086108  26.158701    2         t   \n",
       "\n",
       "              ZTFID      IAUID           mjd  \n",
       "27200  ZTF19aawsday  AT2019hbr  58636.423484  \n",
       "27201  ZTF19aawsday  AT2019hbr  58641.446678  \n",
       "27202  ZTF19aawsday  AT2019hbr  58644.448565  \n",
       "27203  ZTF19aawsday  AT2019hbr  58647.472512  \n",
       "27204  ZTF19aawsday  AT2019hbr  58650.437442  "
      ]
     },
     "execution_count": 244,
     "metadata": {},
     "output_type": "execute_result"
    }
   ],
   "source": [
    "lcs = lcs.sort_values(by=['IAUID','mjd'])\n",
    "lcs.head()"
   ]
  },
  {
   "cell_type": "code",
   "execution_count": 245,
   "id": "6bec14c3-b791-49b4-b8cc-9880a5b1691f",
   "metadata": {},
   "outputs": [
    {
     "data": {
      "text/plain": [
       "6554    AT2019hbr\n",
       "6701    AT2019umt\n",
       "6455     AT2019ye\n",
       "6736    AT2019zri\n",
       "6751     AT2020pv\n",
       "Name: IAUID, dtype: object"
      ]
     },
     "execution_count": 245,
     "metadata": {},
     "output_type": "execute_result"
    }
   ],
   "source": [
    "meta = meta.sort_values(by='IAUID')\n",
    "meta['IAUID'].head()"
   ]
  },
  {
   "cell_type": "markdown",
   "id": "a638da7a-546f-4a6e-b2b2-33728ec3011c",
   "metadata": {},
   "source": [
    "alright let's save and get some stats"
   ]
  },
  {
   "cell_type": "code",
   "execution_count": 248,
   "id": "530bda1b-51ec-4465-91ce-490fe6b85091",
   "metadata": {},
   "outputs": [],
   "source": [
    "yse_rem=meta[meta.IAUID.isin(yse_ids)]"
   ]
  },
  {
   "cell_type": "code",
   "execution_count": 259,
   "id": "985deb7b-1e3a-4748-bae5-09400067b83f",
   "metadata": {},
   "outputs": [
    {
     "data": {
      "text/plain": [
       "Series([], Name: IAUID, dtype: object)"
      ]
     },
     "execution_count": 259,
     "metadata": {},
     "output_type": "execute_result"
    }
   ],
   "source": [
    "yse_rem[(yse_rem.type=='SLSN') ].IAUID"
   ]
  },
  {
   "cell_type": "code",
   "execution_count": 179,
   "id": "fb3e7754-943e-4518-910b-5c0b6ff42a46",
   "metadata": {},
   "outputs": [],
   "source": [
    "meta.to_csv('../data/real/real_meta_clean.csv')\n",
    "lcs.to_csv('../data/real/real_lcs_clean.csv')"
   ]
  },
  {
   "cell_type": "code",
   "execution_count": 181,
   "id": "6c3aecf4-afd8-4cf4-916d-cadbbfff6bd8",
   "metadata": {},
   "outputs": [
    {
     "data": {
      "text/plain": [
       "type\n",
       "II      1318\n",
       "Ia      5359\n",
       "Ib/c     468\n",
       "SLSN      57\n",
       "Name: IAUID, dtype: int64"
      ]
     },
     "execution_count": 181,
     "metadata": {},
     "output_type": "execute_result"
    }
   ],
   "source": [
    "meta.groupby(by='type').IAUID.count()"
   ]
  }
 ],
 "metadata": {
  "kernelspec": {
   "display_name": "Python 3 (ipykernel)",
   "language": "python",
   "name": "python3"
  },
  "language_info": {
   "codemirror_mode": {
    "name": "ipython",
    "version": 3
   },
   "file_extension": ".py",
   "mimetype": "text/x-python",
   "name": "python",
   "nbconvert_exporter": "python",
   "pygments_lexer": "ipython3",
   "version": "3.9.12"
  }
 },
 "nbformat": 4,
 "nbformat_minor": 5
}
