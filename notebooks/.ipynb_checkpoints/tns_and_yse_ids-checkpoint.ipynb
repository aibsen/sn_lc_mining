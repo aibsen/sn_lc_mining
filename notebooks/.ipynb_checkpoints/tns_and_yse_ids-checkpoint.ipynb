{
 "cells": [
  {
   "cell_type": "code",
   "execution_count": 67,
   "id": "f7574c49-ae6b-4972-a292-ab60ff41087d",
   "metadata": {},
   "outputs": [],
   "source": [
    "import pandas as pd\n",
    "import numpy as np\n",
    "import glob\n",
    "import os"
   ]
  },
  {
   "cell_type": "code",
   "execution_count": 73,
   "id": "43d656a1-e4af-4fa0-bdc3-65def73ac49f",
   "metadata": {},
   "outputs": [],
   "source": [
    "def concatenate_sns_files(directory):\n",
    "    \n",
    "    pattern = \"*.csv\"\n",
    "    file_list = glob.glob(os.path.join(directory,pattern))\n",
    "    df_list = []\n",
    "    \n",
    "    for filename in file_list:\n",
    "        tns_df = pd.read_csv(filename)\n",
    "        df_list.append(tns_df)\n",
    "    \n",
    "    return df_list"
   ]
  },
  {
   "cell_type": "code",
   "execution_count": 74,
   "id": "27d56741-e930-4d26-9d6d-d2fcd494f573",
   "metadata": {},
   "outputs": [
    {
     "data": {
      "text/plain": [
       "(6551, 26)"
      ]
     },
     "execution_count": 74,
     "metadata": {},
     "output_type": "execute_result"
    }
   ],
   "source": [
    "tns_sns = pd.concat(concatenate_sns_files(\"../csv/tns_search_files\"),ignore_index=True)\n",
    "tns_sns.shape"
   ]
  },
  {
   "cell_type": "code",
   "execution_count": 77,
   "id": "65ff50ff-1013-459d-b171-e5731b43b8ba",
   "metadata": {},
   "outputs": [],
   "source": [
    "tns_sns = tns_sns.sort_values(\"Discovery Date (UT)\")"
   ]
  },
  {
   "cell_type": "code",
   "execution_count": 80,
   "id": "5ee6a73a-0b8a-404d-bf11-11a3f4571eb3",
   "metadata": {},
   "outputs": [
    {
     "data": {
      "text/plain": [
       "Index(['ID', 'Name', 'RA', 'DEC', 'Obj. Type', 'Redshift', 'Host Name',\n",
       "       'Host Redshift', 'Reporting Group/s', 'Discovery Data Source/s',\n",
       "       'Classifying Group/s', 'Associated Group/s', 'Disc. Internal Name',\n",
       "       'Disc. Instrument/s', 'Class. Instrument/s', 'TNS AT', 'Public',\n",
       "       'End Prop. Period', 'Discovery Mag/Flux', 'Discovery Filter',\n",
       "       'Discovery Date (UT)', 'Sender', 'Remarks', 'Discovery Bibcode',\n",
       "       'Classification Bibcodes', 'Ext. catalog/s'],\n",
       "      dtype='object')"
      ]
     },
     "execution_count": 80,
     "metadata": {},
     "output_type": "execute_result"
    }
   ],
   "source": [
    "tns_sns.keys()"
   ]
  },
  {
   "cell_type": "code",
   "execution_count": 81,
   "id": "4d141214-96fa-4e0c-a45c-b0d6b05556b2",
   "metadata": {},
   "outputs": [],
   "source": [
    "duplicated_ids = tns_sns.duplicated(subset=['Disc. Internal Name'])"
   ]
  },
  {
   "cell_type": "code",
   "execution_count": 82,
   "id": "ad0bdd53-9c8b-40e4-ad5f-652f65a74999",
   "metadata": {},
   "outputs": [
    {
     "data": {
      "text/plain": [
       "(6335, 26)"
      ]
     },
     "execution_count": 82,
     "metadata": {},
     "output_type": "execute_result"
    }
   ],
   "source": [
    "tns_sns = tns_sns[~duplicated_ids]\n",
    "tns_sns.shape"
   ]
  },
  {
   "cell_type": "code",
   "execution_count": 83,
   "id": "41d73f16-75a3-4d32-b9ce-fb3289371168",
   "metadata": {},
   "outputs": [],
   "source": [
    "tns_sns.to_csv(\"../csv/tns_search_.csv\",index=False)"
   ]
  },
  {
   "cell_type": "code",
   "execution_count": 87,
   "id": "2b0aa4b3-6014-4084-a2de-9d354ba75b7c",
   "metadata": {},
   "outputs": [
    {
     "data": {
      "text/plain": [
       "(5159, 15)"
      ]
     },
     "execution_count": 87,
     "metadata": {},
     "output_type": "execute_result"
    }
   ],
   "source": [
    "#see if any of them are already in the bts_sn dataset\n",
    "bts_sns=pd.read_csv(\"../csv/bts_sn.csv\")\n",
    "bts_sns.shape"
   ]
  },
  {
   "cell_type": "code",
   "execution_count": 86,
   "id": "4eef6f85-5685-409d-a5b7-93619e9b207e",
   "metadata": {},
   "outputs": [
    {
     "data": {
      "text/plain": [
       "(2531, 26)"
      ]
     },
     "execution_count": 86,
     "metadata": {},
     "output_type": "execute_result"
    }
   ],
   "source": [
    "tns_not_in_bts = tns_sns[~tns_sns['Disc. Internal Name'].isin(bts_sns.ZTFID)]\n",
    "tns_not_in_bts.shape"
   ]
  },
  {
   "cell_type": "code",
   "execution_count": 88,
   "id": "1c606ce9-506d-411b-9235-414f50a42ec0",
   "metadata": {},
   "outputs": [
    {
     "data": {
      "text/plain": [
       "Index(['ID', 'Name', 'RA', 'DEC', 'Obj. Type', 'Redshift', 'Host Name',\n",
       "       'Host Redshift', 'Reporting Group/s', 'Discovery Data Source/s',\n",
       "       'Classifying Group/s', 'Associated Group/s', 'ZTFID',\n",
       "       'Disc. Instrument/s', 'Class. Instrument/s', 'TNS AT', 'Public',\n",
       "       'End Prop. Period', 'Discovery Mag/Flux', 'Discovery Filter',\n",
       "       'Discovery Date (UT)', 'Sender', 'Remarks', 'Discovery Bibcode',\n",
       "       'Classification Bibcodes', 'Ext. catalog/s'],\n",
       "      dtype='object')"
      ]
     },
     "execution_count": 88,
     "metadata": {},
     "output_type": "execute_result"
    }
   ],
   "source": [
    "tns_not_in_bts=tns_not_in_bts.rename(columns={'Disc. Internal Name':\"ZTFID\"})\n",
    "tns_not_in_bts.keys()"
   ]
  },
  {
   "cell_type": "code",
   "execution_count": 89,
   "id": "2e92cf41-4beb-42e8-ad16-be97f0256a35",
   "metadata": {},
   "outputs": [],
   "source": [
    "tns_not_in_bts.to_csv(\"../csv/tns_search_not_bts.csv\",index=False)"
   ]
  },
  {
   "cell_type": "code",
   "execution_count": 90,
   "id": "4c7fc5d8-52c4-4e51-9e72-5a403e131859",
   "metadata": {},
   "outputs": [],
   "source": [
    "#lets see if any of the yse are not in the prev datasets\n",
    "yse_sns = pd.read_csv(\"../csv/parsnip_results_for_ysedr1_table_A1_full_for_online.csv\")"
   ]
  },
  {
   "cell_type": "code",
   "execution_count": 91,
   "id": "659768ac-05dd-4c4e-a755-2a2171444920",
   "metadata": {},
   "outputs": [
    {
     "data": {
      "text/html": [
       "<div>\n",
       "<style scoped>\n",
       "    .dataframe tbody tr th:only-of-type {\n",
       "        vertical-align: middle;\n",
       "    }\n",
       "\n",
       "    .dataframe tbody tr th {\n",
       "        vertical-align: top;\n",
       "    }\n",
       "\n",
       "    .dataframe thead th {\n",
       "        text-align: right;\n",
       "    }\n",
       "</style>\n",
       "<table border=\"1\" class=\"dataframe\">\n",
       "  <thead>\n",
       "    <tr style=\"text-align: right;\">\n",
       "      <th></th>\n",
       "      <th>Object</th>\n",
       "      <th>RA</th>\n",
       "      <th>Dec</th>\n",
       "      <th>Spec. Class</th>\n",
       "      <th>Redshift, $z$</th>\n",
       "      <th>Prediction</th>\n",
       "      <th>Confidence</th>\n",
       "      <th>p_SNII</th>\n",
       "      <th>p_SNIa</th>\n",
       "      <th>p_SNIbc</th>\n",
       "    </tr>\n",
       "  </thead>\n",
       "  <tbody>\n",
       "    <tr>\n",
       "      <th>0</th>\n",
       "      <td>2019lbi</td>\n",
       "      <td>190.088004</td>\n",
       "      <td>1.273998</td>\n",
       "      <td>SNII</td>\n",
       "      <td>0.038</td>\n",
       "      <td>SNIa</td>\n",
       "      <td>0.497</td>\n",
       "      <td>0.278</td>\n",
       "      <td>0.497</td>\n",
       "      <td>0.225</td>\n",
       "    </tr>\n",
       "    <tr>\n",
       "      <th>1</th>\n",
       "      <td>2019pmd</td>\n",
       "      <td>49.599161</td>\n",
       "      <td>-1.930453</td>\n",
       "      <td>SNIa-norm</td>\n",
       "      <td>0.026</td>\n",
       "      <td>SNIa</td>\n",
       "      <td>0.972</td>\n",
       "      <td>0.002</td>\n",
       "      <td>0.972</td>\n",
       "      <td>0.026</td>\n",
       "    </tr>\n",
       "    <tr>\n",
       "      <th>2</th>\n",
       "      <td>2019ppi</td>\n",
       "      <td>133.897475</td>\n",
       "      <td>49.160259</td>\n",
       "      <td>SNII</td>\n",
       "      <td>0.135</td>\n",
       "      <td>SNII</td>\n",
       "      <td>0.495</td>\n",
       "      <td>0.495</td>\n",
       "      <td>0.173</td>\n",
       "      <td>0.332</td>\n",
       "    </tr>\n",
       "    <tr>\n",
       "      <th>3</th>\n",
       "      <td>2019szh</td>\n",
       "      <td>147.176208</td>\n",
       "      <td>-8.734392</td>\n",
       "      <td>SNIa-norm</td>\n",
       "      <td>0.053</td>\n",
       "      <td>SNIa</td>\n",
       "      <td>1.000</td>\n",
       "      <td>0.000</td>\n",
       "      <td>1.000</td>\n",
       "      <td>0.000</td>\n",
       "    </tr>\n",
       "    <tr>\n",
       "      <th>4</th>\n",
       "      <td>2019tvv</td>\n",
       "      <td>177.772596</td>\n",
       "      <td>21.767258</td>\n",
       "      <td>SNIa-norm</td>\n",
       "      <td>0.059</td>\n",
       "      <td>SNIa</td>\n",
       "      <td>1.000</td>\n",
       "      <td>0.000</td>\n",
       "      <td>1.000</td>\n",
       "      <td>0.000</td>\n",
       "    </tr>\n",
       "  </tbody>\n",
       "</table>\n",
       "</div>"
      ],
      "text/plain": [
       "    Object          RA        Dec Spec. Class  Redshift, $z$ Prediction  \\\n",
       "0  2019lbi  190.088004   1.273998        SNII          0.038       SNIa   \n",
       "1  2019pmd   49.599161  -1.930453   SNIa-norm          0.026       SNIa   \n",
       "2  2019ppi  133.897475  49.160259        SNII          0.135       SNII   \n",
       "3  2019szh  147.176208  -8.734392   SNIa-norm          0.053       SNIa   \n",
       "4  2019tvv  177.772596  21.767258   SNIa-norm          0.059       SNIa   \n",
       "\n",
       "   Confidence  p_SNII  p_SNIa  p_SNIbc  \n",
       "0       0.497   0.278   0.497    0.225  \n",
       "1       0.972   0.002   0.972    0.026  \n",
       "2       0.495   0.495   0.173    0.332  \n",
       "3       1.000   0.000   1.000    0.000  \n",
       "4       1.000   0.000   1.000    0.000  "
      ]
     },
     "execution_count": 91,
     "metadata": {},
     "output_type": "execute_result"
    }
   ],
   "source": [
    "yse_sns.head()"
   ]
  },
  {
   "cell_type": "code",
   "execution_count": 92,
   "id": "d3a34946-867b-4cae-b19e-1a412ff6bff6",
   "metadata": {},
   "outputs": [],
   "source": [
    "#let's see if any of them are in the bts data\n",
    "yse_sns[\"IAUID\"] = \"SN\"+yse_sns[\"Object\"].astype(str)"
   ]
  },
  {
   "cell_type": "code",
   "execution_count": 93,
   "id": "cb3fe37b-ca2c-4c0f-a579-74edb0a1f3c1",
   "metadata": {},
   "outputs": [],
   "source": [
    "yse_not_in_bts = yse_sns[~yse_sns[\"IAUID\"].isin(bts_sns[\"IAUID\"])]"
   ]
  },
  {
   "cell_type": "code",
   "execution_count": 94,
   "id": "26b86413-9020-4a08-9e85-9bc3402741f3",
   "metadata": {},
   "outputs": [
    {
     "data": {
      "text/plain": [
       "(1975, 11)"
      ]
     },
     "execution_count": 94,
     "metadata": {},
     "output_type": "execute_result"
    }
   ],
   "source": [
    "yse_sns.shape"
   ]
  },
  {
   "cell_type": "code",
   "execution_count": 95,
   "id": "f104b2ef-9aad-4673-bc13-e27f1298bec2",
   "metadata": {},
   "outputs": [
    {
     "data": {
      "text/plain": [
       "(1808, 11)"
      ]
     },
     "execution_count": 95,
     "metadata": {},
     "output_type": "execute_result"
    }
   ],
   "source": [
    "yse_not_in_bts.shape"
   ]
  },
  {
   "cell_type": "code",
   "execution_count": 96,
   "id": "724d4d7a-bad7-43c9-ba6d-06e338c43868",
   "metadata": {},
   "outputs": [],
   "source": [
    "yse_not_in_tns_either = yse_not_in_bts[~yse_not_in_bts[\"IAUID\"].isin(tns_not_in_bts[\"Name\"])]"
   ]
  },
  {
   "cell_type": "code",
   "execution_count": 97,
   "id": "ed8c8da3-6f2e-45fc-8321-90e8618e3ae7",
   "metadata": {},
   "outputs": [
    {
     "data": {
      "text/plain": [
       "(1808, 11)"
      ]
     },
     "execution_count": 97,
     "metadata": {},
     "output_type": "execute_result"
    }
   ],
   "source": [
    "yse_not_in_tns_either.shape"
   ]
  },
  {
   "cell_type": "code",
   "execution_count": 98,
   "id": "3dd6c63a-72a5-4555-a596-004653b63764",
   "metadata": {},
   "outputs": [],
   "source": [
    "yse_not_in_tns_either.to_csv(\"../csv/yse_not_in_bts_or_tns.csv\",index=False)"
   ]
  }
 ],
 "metadata": {
  "kernelspec": {
   "display_name": "Python 3 (ipykernel)",
   "language": "python",
   "name": "python3"
  },
  "language_info": {
   "codemirror_mode": {
    "name": "ipython",
    "version": 3
   },
   "file_extension": ".py",
   "mimetype": "text/x-python",
   "name": "python",
   "nbconvert_exporter": "python",
   "pygments_lexer": "ipython3",
   "version": "3.12.2"
  }
 },
 "nbformat": 4,
 "nbformat_minor": 5
}
